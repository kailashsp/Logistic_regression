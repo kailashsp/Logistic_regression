{
 "cells": [
  {
   "cell_type": "code",
   "execution_count": 457,
   "id": "5664e079",
   "metadata": {},
   "outputs": [],
   "source": [
    "import numpy as np"
   ]
  },
  {
   "cell_type": "code",
   "execution_count": 458,
   "id": "f2032fd7",
   "metadata": {},
   "outputs": [],
   "source": [
    "import pandas as pd"
   ]
  },
  {
   "cell_type": "code",
   "execution_count": 459,
   "id": "2490dc1a",
   "metadata": {},
   "outputs": [],
   "source": [
    "data = pd.read_csv(\"train.csv\")"
   ]
  },
  {
   "cell_type": "code",
   "execution_count": 460,
   "id": "212f7282",
   "metadata": {},
   "outputs": [],
   "source": [
    "data = data.set_index('PassengerId')"
   ]
  },
  {
   "cell_type": "code",
   "execution_count": 461,
   "id": "80e0f523",
   "metadata": {},
   "outputs": [
    {
     "data": {
      "text/plain": [
       "Survived      0\n",
       "Pclass        0\n",
       "Name          0\n",
       "Sex           0\n",
       "Age         177\n",
       "SibSp         0\n",
       "Parch         0\n",
       "Ticket        0\n",
       "Fare          0\n",
       "Cabin       687\n",
       "Embarked      2\n",
       "dtype: int64"
      ]
     },
     "execution_count": 461,
     "metadata": {},
     "output_type": "execute_result"
    }
   ],
   "source": [
    "data.isnull().sum()"
   ]
  },
  {
   "cell_type": "code",
   "execution_count": 462,
   "id": "2fb1ad74",
   "metadata": {},
   "outputs": [
    {
     "data": {
      "text/html": [
       "<div>\n",
       "<style scoped>\n",
       "    .dataframe tbody tr th:only-of-type {\n",
       "        vertical-align: middle;\n",
       "    }\n",
       "\n",
       "    .dataframe tbody tr th {\n",
       "        vertical-align: top;\n",
       "    }\n",
       "\n",
       "    .dataframe thead th {\n",
       "        text-align: right;\n",
       "    }\n",
       "</style>\n",
       "<table border=\"1\" class=\"dataframe\">\n",
       "  <thead>\n",
       "    <tr style=\"text-align: right;\">\n",
       "      <th></th>\n",
       "      <th>Survived</th>\n",
       "      <th>Pclass</th>\n",
       "      <th>Name</th>\n",
       "      <th>Sex</th>\n",
       "      <th>Age</th>\n",
       "      <th>SibSp</th>\n",
       "      <th>Parch</th>\n",
       "      <th>Ticket</th>\n",
       "      <th>Fare</th>\n",
       "      <th>Cabin</th>\n",
       "      <th>Embarked</th>\n",
       "    </tr>\n",
       "    <tr>\n",
       "      <th>PassengerId</th>\n",
       "      <th></th>\n",
       "      <th></th>\n",
       "      <th></th>\n",
       "      <th></th>\n",
       "      <th></th>\n",
       "      <th></th>\n",
       "      <th></th>\n",
       "      <th></th>\n",
       "      <th></th>\n",
       "      <th></th>\n",
       "      <th></th>\n",
       "    </tr>\n",
       "  </thead>\n",
       "  <tbody>\n",
       "    <tr>\n",
       "      <th>1</th>\n",
       "      <td>0</td>\n",
       "      <td>3</td>\n",
       "      <td>Braund, Mr. Owen Harris</td>\n",
       "      <td>male</td>\n",
       "      <td>22.0</td>\n",
       "      <td>1</td>\n",
       "      <td>0</td>\n",
       "      <td>A/5 21171</td>\n",
       "      <td>7.2500</td>\n",
       "      <td>NaN</td>\n",
       "      <td>S</td>\n",
       "    </tr>\n",
       "    <tr>\n",
       "      <th>2</th>\n",
       "      <td>1</td>\n",
       "      <td>1</td>\n",
       "      <td>Cumings, Mrs. John Bradley (Florence Briggs Th...</td>\n",
       "      <td>female</td>\n",
       "      <td>38.0</td>\n",
       "      <td>1</td>\n",
       "      <td>0</td>\n",
       "      <td>PC 17599</td>\n",
       "      <td>71.2833</td>\n",
       "      <td>C85</td>\n",
       "      <td>C</td>\n",
       "    </tr>\n",
       "    <tr>\n",
       "      <th>3</th>\n",
       "      <td>1</td>\n",
       "      <td>3</td>\n",
       "      <td>Heikkinen, Miss. Laina</td>\n",
       "      <td>female</td>\n",
       "      <td>26.0</td>\n",
       "      <td>0</td>\n",
       "      <td>0</td>\n",
       "      <td>STON/O2. 3101282</td>\n",
       "      <td>7.9250</td>\n",
       "      <td>NaN</td>\n",
       "      <td>S</td>\n",
       "    </tr>\n",
       "    <tr>\n",
       "      <th>4</th>\n",
       "      <td>1</td>\n",
       "      <td>1</td>\n",
       "      <td>Futrelle, Mrs. Jacques Heath (Lily May Peel)</td>\n",
       "      <td>female</td>\n",
       "      <td>35.0</td>\n",
       "      <td>1</td>\n",
       "      <td>0</td>\n",
       "      <td>113803</td>\n",
       "      <td>53.1000</td>\n",
       "      <td>C123</td>\n",
       "      <td>S</td>\n",
       "    </tr>\n",
       "    <tr>\n",
       "      <th>5</th>\n",
       "      <td>0</td>\n",
       "      <td>3</td>\n",
       "      <td>Allen, Mr. William Henry</td>\n",
       "      <td>male</td>\n",
       "      <td>35.0</td>\n",
       "      <td>0</td>\n",
       "      <td>0</td>\n",
       "      <td>373450</td>\n",
       "      <td>8.0500</td>\n",
       "      <td>NaN</td>\n",
       "      <td>S</td>\n",
       "    </tr>\n",
       "  </tbody>\n",
       "</table>\n",
       "</div>"
      ],
      "text/plain": [
       "             Survived  Pclass  \\\n",
       "PassengerId                     \n",
       "1                   0       3   \n",
       "2                   1       1   \n",
       "3                   1       3   \n",
       "4                   1       1   \n",
       "5                   0       3   \n",
       "\n",
       "                                                          Name     Sex   Age  \\\n",
       "PassengerId                                                                    \n",
       "1                                      Braund, Mr. Owen Harris    male  22.0   \n",
       "2            Cumings, Mrs. John Bradley (Florence Briggs Th...  female  38.0   \n",
       "3                                       Heikkinen, Miss. Laina  female  26.0   \n",
       "4                 Futrelle, Mrs. Jacques Heath (Lily May Peel)  female  35.0   \n",
       "5                                     Allen, Mr. William Henry    male  35.0   \n",
       "\n",
       "             SibSp  Parch            Ticket     Fare Cabin Embarked  \n",
       "PassengerId                                                          \n",
       "1                1      0         A/5 21171   7.2500   NaN        S  \n",
       "2                1      0          PC 17599  71.2833   C85        C  \n",
       "3                0      0  STON/O2. 3101282   7.9250   NaN        S  \n",
       "4                1      0            113803  53.1000  C123        S  \n",
       "5                0      0            373450   8.0500   NaN        S  "
      ]
     },
     "execution_count": 462,
     "metadata": {},
     "output_type": "execute_result"
    }
   ],
   "source": [
    "data.head()"
   ]
  },
  {
   "cell_type": "code",
   "execution_count": 463,
   "id": "774446b2",
   "metadata": {},
   "outputs": [
    {
     "data": {
      "text/html": [
       "<div>\n",
       "<style scoped>\n",
       "    .dataframe tbody tr th:only-of-type {\n",
       "        vertical-align: middle;\n",
       "    }\n",
       "\n",
       "    .dataframe tbody tr th {\n",
       "        vertical-align: top;\n",
       "    }\n",
       "\n",
       "    .dataframe thead th {\n",
       "        text-align: right;\n",
       "    }\n",
       "</style>\n",
       "<table border=\"1\" class=\"dataframe\">\n",
       "  <thead>\n",
       "    <tr style=\"text-align: right;\">\n",
       "      <th></th>\n",
       "      <th>Survived</th>\n",
       "      <th>Pclass</th>\n",
       "      <th>Age</th>\n",
       "      <th>SibSp</th>\n",
       "      <th>Parch</th>\n",
       "      <th>Fare</th>\n",
       "    </tr>\n",
       "  </thead>\n",
       "  <tbody>\n",
       "    <tr>\n",
       "      <th>count</th>\n",
       "      <td>891.000000</td>\n",
       "      <td>891.000000</td>\n",
       "      <td>714.000000</td>\n",
       "      <td>891.000000</td>\n",
       "      <td>891.000000</td>\n",
       "      <td>891.000000</td>\n",
       "    </tr>\n",
       "    <tr>\n",
       "      <th>mean</th>\n",
       "      <td>0.383838</td>\n",
       "      <td>2.308642</td>\n",
       "      <td>29.699118</td>\n",
       "      <td>0.523008</td>\n",
       "      <td>0.381594</td>\n",
       "      <td>32.204208</td>\n",
       "    </tr>\n",
       "    <tr>\n",
       "      <th>std</th>\n",
       "      <td>0.486592</td>\n",
       "      <td>0.836071</td>\n",
       "      <td>14.526497</td>\n",
       "      <td>1.102743</td>\n",
       "      <td>0.806057</td>\n",
       "      <td>49.693429</td>\n",
       "    </tr>\n",
       "    <tr>\n",
       "      <th>min</th>\n",
       "      <td>0.000000</td>\n",
       "      <td>1.000000</td>\n",
       "      <td>0.420000</td>\n",
       "      <td>0.000000</td>\n",
       "      <td>0.000000</td>\n",
       "      <td>0.000000</td>\n",
       "    </tr>\n",
       "    <tr>\n",
       "      <th>25%</th>\n",
       "      <td>0.000000</td>\n",
       "      <td>2.000000</td>\n",
       "      <td>20.125000</td>\n",
       "      <td>0.000000</td>\n",
       "      <td>0.000000</td>\n",
       "      <td>7.910400</td>\n",
       "    </tr>\n",
       "    <tr>\n",
       "      <th>50%</th>\n",
       "      <td>0.000000</td>\n",
       "      <td>3.000000</td>\n",
       "      <td>28.000000</td>\n",
       "      <td>0.000000</td>\n",
       "      <td>0.000000</td>\n",
       "      <td>14.454200</td>\n",
       "    </tr>\n",
       "    <tr>\n",
       "      <th>75%</th>\n",
       "      <td>1.000000</td>\n",
       "      <td>3.000000</td>\n",
       "      <td>38.000000</td>\n",
       "      <td>1.000000</td>\n",
       "      <td>0.000000</td>\n",
       "      <td>31.000000</td>\n",
       "    </tr>\n",
       "    <tr>\n",
       "      <th>max</th>\n",
       "      <td>1.000000</td>\n",
       "      <td>3.000000</td>\n",
       "      <td>80.000000</td>\n",
       "      <td>8.000000</td>\n",
       "      <td>6.000000</td>\n",
       "      <td>512.329200</td>\n",
       "    </tr>\n",
       "  </tbody>\n",
       "</table>\n",
       "</div>"
      ],
      "text/plain": [
       "         Survived      Pclass         Age       SibSp       Parch        Fare\n",
       "count  891.000000  891.000000  714.000000  891.000000  891.000000  891.000000\n",
       "mean     0.383838    2.308642   29.699118    0.523008    0.381594   32.204208\n",
       "std      0.486592    0.836071   14.526497    1.102743    0.806057   49.693429\n",
       "min      0.000000    1.000000    0.420000    0.000000    0.000000    0.000000\n",
       "25%      0.000000    2.000000   20.125000    0.000000    0.000000    7.910400\n",
       "50%      0.000000    3.000000   28.000000    0.000000    0.000000   14.454200\n",
       "75%      1.000000    3.000000   38.000000    1.000000    0.000000   31.000000\n",
       "max      1.000000    3.000000   80.000000    8.000000    6.000000  512.329200"
      ]
     },
     "execution_count": 463,
     "metadata": {},
     "output_type": "execute_result"
    }
   ],
   "source": [
    "data.describe()"
   ]
  },
  {
   "cell_type": "code",
   "execution_count": 464,
   "id": "e7ac2e8b",
   "metadata": {},
   "outputs": [
    {
     "name": "stdout",
     "output_type": "stream",
     "text": [
      "<class 'pandas.core.frame.DataFrame'>\n",
      "Int64Index: 891 entries, 1 to 891\n",
      "Data columns (total 11 columns):\n",
      " #   Column    Non-Null Count  Dtype  \n",
      "---  ------    --------------  -----  \n",
      " 0   Survived  891 non-null    int64  \n",
      " 1   Pclass    891 non-null    int64  \n",
      " 2   Name      891 non-null    object \n",
      " 3   Sex       891 non-null    object \n",
      " 4   Age       714 non-null    float64\n",
      " 5   SibSp     891 non-null    int64  \n",
      " 6   Parch     891 non-null    int64  \n",
      " 7   Ticket    891 non-null    object \n",
      " 8   Fare      891 non-null    float64\n",
      " 9   Cabin     204 non-null    object \n",
      " 10  Embarked  889 non-null    object \n",
      "dtypes: float64(2), int64(4), object(5)\n",
      "memory usage: 83.5+ KB\n"
     ]
    }
   ],
   "source": [
    "data.info()"
   ]
  },
  {
   "cell_type": "code",
   "execution_count": 465,
   "id": "2b393bce",
   "metadata": {},
   "outputs": [],
   "source": [
    "data[\"Age\"] = data[\"Age\"].fillna(29.69)"
   ]
  },
  {
   "cell_type": "code",
   "execution_count": 466,
   "id": "3c98835e",
   "metadata": {
    "scrolled": false
   },
   "outputs": [
    {
     "data": {
      "text/plain": [
       "Survived      0\n",
       "Pclass        0\n",
       "Name          0\n",
       "Sex           0\n",
       "Age           0\n",
       "SibSp         0\n",
       "Parch         0\n",
       "Ticket        0\n",
       "Fare          0\n",
       "Cabin       687\n",
       "Embarked      2\n",
       "dtype: int64"
      ]
     },
     "execution_count": 466,
     "metadata": {},
     "output_type": "execute_result"
    }
   ],
   "source": [
    "data.isnull().sum()"
   ]
  },
  {
   "cell_type": "code",
   "execution_count": 467,
   "id": "b83f69b6",
   "metadata": {},
   "outputs": [
    {
     "data": {
      "text/plain": [
       "'S'"
      ]
     },
     "execution_count": 467,
     "metadata": {},
     "output_type": "execute_result"
    }
   ],
   "source": [
    "a = data[\"Embarked\"].mode().iloc[0]\n",
    "a"
   ]
  },
  {
   "cell_type": "code",
   "execution_count": 468,
   "id": "c6b76644",
   "metadata": {},
   "outputs": [],
   "source": [
    "data[\"Embarked\"] = data[\"Embarked\"].fillna(a)"
   ]
  },
  {
   "cell_type": "code",
   "execution_count": 469,
   "id": "3110ac8d",
   "metadata": {},
   "outputs": [
    {
     "data": {
      "text/plain": [
       "'B96 B98'"
      ]
     },
     "execution_count": 469,
     "metadata": {},
     "output_type": "execute_result"
    }
   ],
   "source": [
    "b = data['Cabin'].mode().iloc[0]\n",
    "b"
   ]
  },
  {
   "cell_type": "code",
   "execution_count": 470,
   "id": "dfba0621",
   "metadata": {},
   "outputs": [],
   "source": [
    "data[\"Cabin\"] = data[\"Cabin\"].fillna(b)"
   ]
  },
  {
   "cell_type": "code",
   "execution_count": 471,
   "id": "4a846855",
   "metadata": {
    "scrolled": true
   },
   "outputs": [
    {
     "data": {
      "text/plain": [
       "Survived    0\n",
       "Pclass      0\n",
       "Name        0\n",
       "Sex         0\n",
       "Age         0\n",
       "SibSp       0\n",
       "Parch       0\n",
       "Ticket      0\n",
       "Fare        0\n",
       "Cabin       0\n",
       "Embarked    0\n",
       "dtype: int64"
      ]
     },
     "execution_count": 471,
     "metadata": {},
     "output_type": "execute_result"
    }
   ],
   "source": [
    "data.isnull().sum()"
   ]
  },
  {
   "cell_type": "code",
   "execution_count": 472,
   "id": "500d66da",
   "metadata": {},
   "outputs": [],
   "source": [
    "data.drop([\"Name\",\"Ticket\",\"SibSp\",\"Parch\",\"Cabin\",\"Sex\"],axis = 1 ,inplace = True)"
   ]
  },
  {
   "cell_type": "code",
   "execution_count": 473,
   "id": "33e0bb0b",
   "metadata": {},
   "outputs": [],
   "source": [
    "data1 = pd.get_dummies(data)"
   ]
  },
  {
   "cell_type": "code",
   "execution_count": 474,
   "id": "a103ce46",
   "metadata": {
    "scrolled": true
   },
   "outputs": [
    {
     "data": {
      "text/html": [
       "<div>\n",
       "<style scoped>\n",
       "    .dataframe tbody tr th:only-of-type {\n",
       "        vertical-align: middle;\n",
       "    }\n",
       "\n",
       "    .dataframe tbody tr th {\n",
       "        vertical-align: top;\n",
       "    }\n",
       "\n",
       "    .dataframe thead th {\n",
       "        text-align: right;\n",
       "    }\n",
       "</style>\n",
       "<table border=\"1\" class=\"dataframe\">\n",
       "  <thead>\n",
       "    <tr style=\"text-align: right;\">\n",
       "      <th></th>\n",
       "      <th>Survived</th>\n",
       "      <th>Pclass</th>\n",
       "      <th>Age</th>\n",
       "      <th>Fare</th>\n",
       "      <th>Embarked_C</th>\n",
       "      <th>Embarked_Q</th>\n",
       "      <th>Embarked_S</th>\n",
       "    </tr>\n",
       "    <tr>\n",
       "      <th>PassengerId</th>\n",
       "      <th></th>\n",
       "      <th></th>\n",
       "      <th></th>\n",
       "      <th></th>\n",
       "      <th></th>\n",
       "      <th></th>\n",
       "      <th></th>\n",
       "    </tr>\n",
       "  </thead>\n",
       "  <tbody>\n",
       "    <tr>\n",
       "      <th>1</th>\n",
       "      <td>0</td>\n",
       "      <td>3</td>\n",
       "      <td>22.00</td>\n",
       "      <td>7.2500</td>\n",
       "      <td>0</td>\n",
       "      <td>0</td>\n",
       "      <td>1</td>\n",
       "    </tr>\n",
       "    <tr>\n",
       "      <th>2</th>\n",
       "      <td>1</td>\n",
       "      <td>1</td>\n",
       "      <td>38.00</td>\n",
       "      <td>71.2833</td>\n",
       "      <td>1</td>\n",
       "      <td>0</td>\n",
       "      <td>0</td>\n",
       "    </tr>\n",
       "    <tr>\n",
       "      <th>3</th>\n",
       "      <td>1</td>\n",
       "      <td>3</td>\n",
       "      <td>26.00</td>\n",
       "      <td>7.9250</td>\n",
       "      <td>0</td>\n",
       "      <td>0</td>\n",
       "      <td>1</td>\n",
       "    </tr>\n",
       "    <tr>\n",
       "      <th>4</th>\n",
       "      <td>1</td>\n",
       "      <td>1</td>\n",
       "      <td>35.00</td>\n",
       "      <td>53.1000</td>\n",
       "      <td>0</td>\n",
       "      <td>0</td>\n",
       "      <td>1</td>\n",
       "    </tr>\n",
       "    <tr>\n",
       "      <th>5</th>\n",
       "      <td>0</td>\n",
       "      <td>3</td>\n",
       "      <td>35.00</td>\n",
       "      <td>8.0500</td>\n",
       "      <td>0</td>\n",
       "      <td>0</td>\n",
       "      <td>1</td>\n",
       "    </tr>\n",
       "    <tr>\n",
       "      <th>...</th>\n",
       "      <td>...</td>\n",
       "      <td>...</td>\n",
       "      <td>...</td>\n",
       "      <td>...</td>\n",
       "      <td>...</td>\n",
       "      <td>...</td>\n",
       "      <td>...</td>\n",
       "    </tr>\n",
       "    <tr>\n",
       "      <th>887</th>\n",
       "      <td>0</td>\n",
       "      <td>2</td>\n",
       "      <td>27.00</td>\n",
       "      <td>13.0000</td>\n",
       "      <td>0</td>\n",
       "      <td>0</td>\n",
       "      <td>1</td>\n",
       "    </tr>\n",
       "    <tr>\n",
       "      <th>888</th>\n",
       "      <td>1</td>\n",
       "      <td>1</td>\n",
       "      <td>19.00</td>\n",
       "      <td>30.0000</td>\n",
       "      <td>0</td>\n",
       "      <td>0</td>\n",
       "      <td>1</td>\n",
       "    </tr>\n",
       "    <tr>\n",
       "      <th>889</th>\n",
       "      <td>0</td>\n",
       "      <td>3</td>\n",
       "      <td>29.69</td>\n",
       "      <td>23.4500</td>\n",
       "      <td>0</td>\n",
       "      <td>0</td>\n",
       "      <td>1</td>\n",
       "    </tr>\n",
       "    <tr>\n",
       "      <th>890</th>\n",
       "      <td>1</td>\n",
       "      <td>1</td>\n",
       "      <td>26.00</td>\n",
       "      <td>30.0000</td>\n",
       "      <td>1</td>\n",
       "      <td>0</td>\n",
       "      <td>0</td>\n",
       "    </tr>\n",
       "    <tr>\n",
       "      <th>891</th>\n",
       "      <td>0</td>\n",
       "      <td>3</td>\n",
       "      <td>32.00</td>\n",
       "      <td>7.7500</td>\n",
       "      <td>0</td>\n",
       "      <td>1</td>\n",
       "      <td>0</td>\n",
       "    </tr>\n",
       "  </tbody>\n",
       "</table>\n",
       "<p>891 rows × 7 columns</p>\n",
       "</div>"
      ],
      "text/plain": [
       "             Survived  Pclass    Age     Fare  Embarked_C  Embarked_Q  \\\n",
       "PassengerId                                                             \n",
       "1                   0       3  22.00   7.2500           0           0   \n",
       "2                   1       1  38.00  71.2833           1           0   \n",
       "3                   1       3  26.00   7.9250           0           0   \n",
       "4                   1       1  35.00  53.1000           0           0   \n",
       "5                   0       3  35.00   8.0500           0           0   \n",
       "...               ...     ...    ...      ...         ...         ...   \n",
       "887                 0       2  27.00  13.0000           0           0   \n",
       "888                 1       1  19.00  30.0000           0           0   \n",
       "889                 0       3  29.69  23.4500           0           0   \n",
       "890                 1       1  26.00  30.0000           1           0   \n",
       "891                 0       3  32.00   7.7500           0           1   \n",
       "\n",
       "             Embarked_S  \n",
       "PassengerId              \n",
       "1                     1  \n",
       "2                     0  \n",
       "3                     1  \n",
       "4                     1  \n",
       "5                     1  \n",
       "...                 ...  \n",
       "887                   1  \n",
       "888                   1  \n",
       "889                   1  \n",
       "890                   0  \n",
       "891                   0  \n",
       "\n",
       "[891 rows x 7 columns]"
      ]
     },
     "execution_count": 474,
     "metadata": {},
     "output_type": "execute_result"
    }
   ],
   "source": [
    "data1"
   ]
  },
  {
   "cell_type": "code",
   "execution_count": 475,
   "id": "091cea35",
   "metadata": {},
   "outputs": [
    {
     "data": {
      "text/plain": [
       "3    491\n",
       "1    216\n",
       "2    184\n",
       "Name: Pclass, dtype: int64"
      ]
     },
     "execution_count": 475,
     "metadata": {},
     "output_type": "execute_result"
    }
   ],
   "source": [
    "data['Pclass'].value_counts()"
   ]
  },
  {
   "cell_type": "code",
   "execution_count": 476,
   "id": "a0d01546",
   "metadata": {},
   "outputs": [
    {
     "data": {
      "text/html": [
       "<div>\n",
       "<style scoped>\n",
       "    .dataframe tbody tr th:only-of-type {\n",
       "        vertical-align: middle;\n",
       "    }\n",
       "\n",
       "    .dataframe tbody tr th {\n",
       "        vertical-align: top;\n",
       "    }\n",
       "\n",
       "    .dataframe thead th {\n",
       "        text-align: right;\n",
       "    }\n",
       "</style>\n",
       "<table border=\"1\" class=\"dataframe\">\n",
       "  <thead>\n",
       "    <tr style=\"text-align: right;\">\n",
       "      <th></th>\n",
       "      <th>Survived</th>\n",
       "      <th>Pclass</th>\n",
       "      <th>Age</th>\n",
       "      <th>Fare</th>\n",
       "      <th>Embarked_C</th>\n",
       "      <th>Embarked_Q</th>\n",
       "      <th>Embarked_S</th>\n",
       "    </tr>\n",
       "  </thead>\n",
       "  <tbody>\n",
       "    <tr>\n",
       "      <th>Survived</th>\n",
       "      <td>1.000000</td>\n",
       "      <td>-0.338481</td>\n",
       "      <td>-0.069783</td>\n",
       "      <td>0.257307</td>\n",
       "      <td>0.168240</td>\n",
       "      <td>0.003650</td>\n",
       "      <td>-0.149683</td>\n",
       "    </tr>\n",
       "    <tr>\n",
       "      <th>Pclass</th>\n",
       "      <td>-0.338481</td>\n",
       "      <td>1.000000</td>\n",
       "      <td>-0.331387</td>\n",
       "      <td>-0.549500</td>\n",
       "      <td>-0.243292</td>\n",
       "      <td>0.221009</td>\n",
       "      <td>0.074053</td>\n",
       "    </tr>\n",
       "    <tr>\n",
       "      <th>Age</th>\n",
       "      <td>-0.069783</td>\n",
       "      <td>-0.331387</td>\n",
       "      <td>1.000000</td>\n",
       "      <td>0.091594</td>\n",
       "      <td>0.032015</td>\n",
       "      <td>-0.013950</td>\n",
       "      <td>-0.019268</td>\n",
       "    </tr>\n",
       "    <tr>\n",
       "      <th>Fare</th>\n",
       "      <td>0.257307</td>\n",
       "      <td>-0.549500</td>\n",
       "      <td>0.091594</td>\n",
       "      <td>1.000000</td>\n",
       "      <td>0.269335</td>\n",
       "      <td>-0.117216</td>\n",
       "      <td>-0.162184</td>\n",
       "    </tr>\n",
       "    <tr>\n",
       "      <th>Embarked_C</th>\n",
       "      <td>0.168240</td>\n",
       "      <td>-0.243292</td>\n",
       "      <td>0.032015</td>\n",
       "      <td>0.269335</td>\n",
       "      <td>1.000000</td>\n",
       "      <td>-0.148258</td>\n",
       "      <td>-0.782742</td>\n",
       "    </tr>\n",
       "    <tr>\n",
       "      <th>Embarked_Q</th>\n",
       "      <td>0.003650</td>\n",
       "      <td>0.221009</td>\n",
       "      <td>-0.013950</td>\n",
       "      <td>-0.117216</td>\n",
       "      <td>-0.148258</td>\n",
       "      <td>1.000000</td>\n",
       "      <td>-0.499421</td>\n",
       "    </tr>\n",
       "    <tr>\n",
       "      <th>Embarked_S</th>\n",
       "      <td>-0.149683</td>\n",
       "      <td>0.074053</td>\n",
       "      <td>-0.019268</td>\n",
       "      <td>-0.162184</td>\n",
       "      <td>-0.782742</td>\n",
       "      <td>-0.499421</td>\n",
       "      <td>1.000000</td>\n",
       "    </tr>\n",
       "  </tbody>\n",
       "</table>\n",
       "</div>"
      ],
      "text/plain": [
       "            Survived    Pclass       Age      Fare  Embarked_C  Embarked_Q  \\\n",
       "Survived    1.000000 -0.338481 -0.069783  0.257307    0.168240    0.003650   \n",
       "Pclass     -0.338481  1.000000 -0.331387 -0.549500   -0.243292    0.221009   \n",
       "Age        -0.069783 -0.331387  1.000000  0.091594    0.032015   -0.013950   \n",
       "Fare        0.257307 -0.549500  0.091594  1.000000    0.269335   -0.117216   \n",
       "Embarked_C  0.168240 -0.243292  0.032015  0.269335    1.000000   -0.148258   \n",
       "Embarked_Q  0.003650  0.221009 -0.013950 -0.117216   -0.148258    1.000000   \n",
       "Embarked_S -0.149683  0.074053 -0.019268 -0.162184   -0.782742   -0.499421   \n",
       "\n",
       "            Embarked_S  \n",
       "Survived     -0.149683  \n",
       "Pclass        0.074053  \n",
       "Age          -0.019268  \n",
       "Fare         -0.162184  \n",
       "Embarked_C   -0.782742  \n",
       "Embarked_Q   -0.499421  \n",
       "Embarked_S    1.000000  "
      ]
     },
     "execution_count": 476,
     "metadata": {},
     "output_type": "execute_result"
    }
   ],
   "source": [
    "data1.corr()"
   ]
  },
  {
   "cell_type": "code",
   "execution_count": 477,
   "id": "00539c0c",
   "metadata": {},
   "outputs": [],
   "source": [
    "target = data['Survived']"
   ]
  },
  {
   "cell_type": "code",
   "execution_count": 478,
   "id": "f69bbf09",
   "metadata": {},
   "outputs": [
    {
     "data": {
      "text/plain": [
       "PassengerId\n",
       "1    0\n",
       "2    1\n",
       "3    1\n",
       "4    1\n",
       "5    0\n",
       "Name: Survived, dtype: int64"
      ]
     },
     "execution_count": 478,
     "metadata": {},
     "output_type": "execute_result"
    }
   ],
   "source": [
    "target.head()"
   ]
  },
  {
   "cell_type": "code",
   "execution_count": 479,
   "id": "0681fc64",
   "metadata": {},
   "outputs": [],
   "source": [
    "features= data1.drop(['Survived'],axis=1)"
   ]
  },
  {
   "cell_type": "code",
   "execution_count": 480,
   "id": "39e58c4d",
   "metadata": {},
   "outputs": [],
   "source": [
    "from sklearn.preprocessing import StandardScaler "
   ]
  },
  {
   "cell_type": "code",
   "execution_count": 481,
   "id": "708d34c9",
   "metadata": {},
   "outputs": [],
   "source": [
    "scalar = StandardScaler()"
   ]
  },
  {
   "cell_type": "code",
   "execution_count": 482,
   "id": "aecacd9f",
   "metadata": {},
   "outputs": [],
   "source": [
    "features_scaled = scalar.fit_transform(features)"
   ]
  },
  {
   "cell_type": "code",
   "execution_count": null,
   "id": "85b85606",
   "metadata": {},
   "outputs": [],
   "source": []
  },
  {
   "cell_type": "code",
   "execution_count": 483,
   "id": "16303607",
   "metadata": {},
   "outputs": [],
   "source": [
    "from sklearn.linear_model import LogisticRegression \n",
    "from sklearn.metrics import f1_score,confusion_matrix,accuracy_score,log_loss,precision_recall_curve,precision_score,accuracy_score,recall_score"
   ]
  },
  {
   "cell_type": "code",
   "execution_count": 484,
   "id": "5d06c0a7",
   "metadata": {},
   "outputs": [],
   "source": [
    "from sklearn.model_selection import train_test_split as tts"
   ]
  },
  {
   "cell_type": "code",
   "execution_count": 498,
   "id": "2667b4ca",
   "metadata": {},
   "outputs": [],
   "source": [
    "X_train, X_test,y_train, y_test = tts(features_scaled, target, test_size =0.2,random_state = 42)"
   ]
  },
  {
   "cell_type": "code",
   "execution_count": 499,
   "id": "557674f7",
   "metadata": {},
   "outputs": [],
   "source": [
    "from sklearn.linear_model import LogisticRegression \n",
    "from sklearn.metrics import f1_score,confusion_matrix,accuracy_score,log_loss,precision_recall_curve,precision_score,accuracy_score,recall_score"
   ]
  },
  {
   "cell_type": "code",
   "execution_count": 500,
   "id": "6b2b6187",
   "metadata": {},
   "outputs": [],
   "source": [
    "lr = LogisticRegression()"
   ]
  },
  {
   "cell_type": "code",
   "execution_count": 501,
   "id": "327d3087",
   "metadata": {},
   "outputs": [],
   "source": [
    "# lr.fit(features_train,target_train)\n",
    "\n",
    "# d = pd.read_csv(\"test.csv\")\n",
    "\n",
    "# d.head()\n",
    "\n",
    "# d = d.set_index('PassengerId')\n",
    "# d.drop([\"Name\",\"Ticket\",\"SibSp\",\"Parch\",\"Cabin\",\"Sex\"],axis = 1 ,inplace = True)\n",
    "# features_test = pd.get_dummies(d)\n",
    "\n",
    "# features_test.isnull().sum()\n",
    "\n",
    "# features_test.describe()\n",
    "\n",
    "# features_test[\"Age\"] = features_test[\"Age\"].fillna(30.27)\n",
    "\n",
    "# features_test[\"Fare\"] = features_test[\"Fare\"].fillna(35.62)\n",
    "\n",
    "# prediction = lr.predict(features_test)"
   ]
  },
  {
   "cell_type": "code",
   "execution_count": 502,
   "id": "949066c4",
   "metadata": {},
   "outputs": [
    {
     "data": {
      "text/plain": [
       "LogisticRegression()"
      ]
     },
     "execution_count": 502,
     "metadata": {},
     "output_type": "execute_result"
    }
   ],
   "source": [
    "lr.fit(X_train,y_train)"
   ]
  },
  {
   "cell_type": "code",
   "execution_count": 503,
   "id": "3c7bc3f7",
   "metadata": {},
   "outputs": [],
   "source": [
    "prediction = lr.predict(X_test)"
   ]
  },
  {
   "cell_type": "code",
   "execution_count": 504,
   "id": "b3f513a9",
   "metadata": {},
   "outputs": [
    {
     "data": {
      "text/plain": [
       "array([[0.70136266, 0.29863734],\n",
       "       [0.62768931, 0.37231069],\n",
       "       [0.74758502, 0.25241498],\n",
       "       [0.42358013, 0.57641987],\n",
       "       [0.59659044, 0.40340956],\n",
       "       [0.32325762, 0.67674238],\n",
       "       [0.67674925, 0.32325075],\n",
       "       [0.71747199, 0.28252801],\n",
       "       [0.58030069, 0.41969931],\n",
       "       [0.31413107, 0.68586893],\n",
       "       [0.42014616, 0.57985384],\n",
       "       [0.85968427, 0.14031573],\n",
       "       [0.78962396, 0.21037604],\n",
       "       [0.70871329, 0.29128671],\n",
       "       [0.66055046, 0.33944954],\n",
       "       [0.2861347 , 0.7138653 ],\n",
       "       [0.45787849, 0.54212151],\n",
       "       [0.67669318, 0.32330682],\n",
       "       [0.59700717, 0.40299283],\n",
       "       [0.49610708, 0.50389292],\n",
       "       [0.76978275, 0.23021725],\n",
       "       [0.41892788, 0.58107212],\n",
       "       [0.74186765, 0.25813235],\n",
       "       [0.74679042, 0.25320958],\n",
       "       [0.79545822, 0.20454178],\n",
       "       [0.67218777, 0.32781223],\n",
       "       [0.34274689, 0.65725311],\n",
       "       [0.6257969 , 0.3742031 ],\n",
       "       [0.63094465, 0.36905535],\n",
       "       [0.80523633, 0.19476367],\n",
       "       [0.74184188, 0.25815812],\n",
       "       [0.75895306, 0.24104694],\n",
       "       [0.27425512, 0.72574488],\n",
       "       [0.79909293, 0.20090707],\n",
       "       [0.73589888, 0.26410112],\n",
       "       [0.68456658, 0.31543342],\n",
       "       [0.3686619 , 0.6313381 ],\n",
       "       [0.67674925, 0.32325075],\n",
       "       [0.27593221, 0.72406779],\n",
       "       [0.79891323, 0.20108677],\n",
       "       [0.50385502, 0.49614498],\n",
       "       [0.79598005, 0.20401995],\n",
       "       [0.79883306, 0.20116694],\n",
       "       [0.67674925, 0.32325075],\n",
       "       [0.78923395, 0.21076605],\n",
       "       [0.7066088 , 0.2933912 ],\n",
       "       [0.74167917, 0.25832083],\n",
       "       [0.76359294, 0.23640706],\n",
       "       [0.7702674 , 0.2297326 ],\n",
       "       [0.40553954, 0.59446046],\n",
       "       [0.52313365, 0.47686635],\n",
       "       [0.50041604, 0.49958396],\n",
       "       [0.83578886, 0.16421114],\n",
       "       [0.20972952, 0.79027048],\n",
       "       [0.85923058, 0.14076942],\n",
       "       [0.27212588, 0.72787412],\n",
       "       [0.63474343, 0.36525657],\n",
       "       [0.257451  , 0.742549  ],\n",
       "       [0.64783992, 0.35216008],\n",
       "       [0.60216698, 0.39783302],\n",
       "       [0.75335066, 0.24664934],\n",
       "       [0.48693269, 0.51306731],\n",
       "       [0.59417441, 0.40582559],\n",
       "       [0.387991  , 0.612009  ],\n",
       "       [0.67674925, 0.32325075],\n",
       "       [0.78755098, 0.21244902],\n",
       "       [0.50385502, 0.49614498],\n",
       "       [0.79554398, 0.20445602],\n",
       "       [0.6213247 , 0.3786753 ],\n",
       "       [0.38912733, 0.61087267],\n",
       "       [0.57948046, 0.42051954],\n",
       "       [0.11134664, 0.88865336],\n",
       "       [0.25299335, 0.74700665],\n",
       "       [0.29717959, 0.70282041],\n",
       "       [0.76439271, 0.23560729],\n",
       "       [0.82433063, 0.17566937],\n",
       "       [0.68209555, 0.31790445],\n",
       "       [0.21976688, 0.78023312],\n",
       "       [0.67400526, 0.32599474],\n",
       "       [0.84322237, 0.15677763],\n",
       "       [0.70303246, 0.29696754],\n",
       "       [0.61341934, 0.38658066],\n",
       "       [0.26961219, 0.73038781],\n",
       "       [0.6767581 , 0.3232419 ],\n",
       "       [0.45615389, 0.54384611],\n",
       "       [0.55425237, 0.44574763],\n",
       "       [0.2313597 , 0.7686403 ],\n",
       "       [0.25948807, 0.74051193],\n",
       "       [0.47002367, 0.52997633],\n",
       "       [0.79924872, 0.20075128],\n",
       "       [0.67076707, 0.32923293],\n",
       "       [0.66304016, 0.33695984],\n",
       "       [0.61594325, 0.38405675],\n",
       "       [0.67676397, 0.32323603],\n",
       "       [0.79891323, 0.20108677],\n",
       "       [0.79058187, 0.20941813],\n",
       "       [0.50368299, 0.49631701],\n",
       "       [0.86330009, 0.13669991],\n",
       "       [0.66055046, 0.33944954],\n",
       "       [0.78549777, 0.21450223],\n",
       "       [0.64192519, 0.35807481],\n",
       "       [0.82388958, 0.17611042],\n",
       "       [0.1835499 , 0.8164501 ],\n",
       "       [0.83672788, 0.16327212],\n",
       "       [0.80274872, 0.19725128],\n",
       "       [0.77517735, 0.22482265],\n",
       "       [0.66881598, 0.33118402],\n",
       "       [0.5070273 , 0.4929727 ],\n",
       "       [0.79958767, 0.20041233],\n",
       "       [0.34036059, 0.65963941],\n",
       "       [0.36815552, 0.63184448],\n",
       "       [0.75084234, 0.24915766],\n",
       "       [0.23827928, 0.76172072],\n",
       "       [0.43395855, 0.56604145],\n",
       "       [0.2517113 , 0.7482887 ],\n",
       "       [0.74641038, 0.25358962],\n",
       "       [0.56609064, 0.43390936],\n",
       "       [0.54096175, 0.45903825],\n",
       "       [0.54728746, 0.45271254],\n",
       "       [0.86397498, 0.13602502],\n",
       "       [0.56872405, 0.43127595],\n",
       "       [0.25909543, 0.74090457],\n",
       "       [0.59515075, 0.40484925],\n",
       "       [0.38892736, 0.61107264],\n",
       "       [0.77547327, 0.22452673],\n",
       "       [0.31028023, 0.68971977],\n",
       "       [0.53230389, 0.46769611],\n",
       "       [0.21374126, 0.78625874],\n",
       "       [0.70189611, 0.29810389],\n",
       "       [0.75318528, 0.24681472],\n",
       "       [0.67665779, 0.32334221],\n",
       "       [0.70136266, 0.29863734],\n",
       "       [0.62635094, 0.37364906],\n",
       "       [0.6494193 , 0.3505807 ],\n",
       "       [0.38394166, 0.61605834],\n",
       "       [0.60137265, 0.39862735],\n",
       "       [0.22572512, 0.77427488],\n",
       "       [0.7955966 , 0.2044034 ],\n",
       "       [0.8524163 , 0.1475837 ],\n",
       "       [0.72972185, 0.27027815],\n",
       "       [0.75295464, 0.24704536],\n",
       "       [0.70393703, 0.29606297],\n",
       "       [0.60427612, 0.39572388],\n",
       "       [0.65790843, 0.34209157],\n",
       "       [0.72148503, 0.27851497],\n",
       "       [0.63228733, 0.36771267],\n",
       "       [0.6186738 , 0.3813262 ],\n",
       "       [0.82962387, 0.17037613],\n",
       "       [0.20620997, 0.79379003],\n",
       "       [0.85598876, 0.14401124],\n",
       "       [0.70577163, 0.29422837],\n",
       "       [0.77001204, 0.22998796],\n",
       "       [0.73605871, 0.26394129],\n",
       "       [0.66503323, 0.33496677],\n",
       "       [0.79883306, 0.20116694],\n",
       "       [0.79935254, 0.20064746],\n",
       "       [0.77246047, 0.22753953],\n",
       "       [0.6767227 , 0.3232773 ],\n",
       "       [0.65105574, 0.34894426],\n",
       "       [0.68649807, 0.31350193],\n",
       "       [0.6664455 , 0.3335545 ],\n",
       "       [0.38751089, 0.61248911],\n",
       "       [0.68062833, 0.31937167],\n",
       "       [0.24237515, 0.75762485],\n",
       "       [0.67624767, 0.32375233],\n",
       "       [0.4989189 , 0.5010811 ],\n",
       "       [0.56951753, 0.43048247],\n",
       "       [0.36825902, 0.63174098],\n",
       "       [0.75886674, 0.24113326],\n",
       "       [0.82392479, 0.17607521],\n",
       "       [0.21728418, 0.78271582],\n",
       "       [0.53003193, 0.46996807],\n",
       "       [0.43387907, 0.56612093],\n",
       "       [0.55645847, 0.44354153],\n",
       "       [0.73055684, 0.26944316],\n",
       "       [0.70677015, 0.29322985],\n",
       "       [0.82568219, 0.17431781],\n",
       "       [0.52449481, 0.47550519],\n",
       "       [0.63934266, 0.36065734]])"
      ]
     },
     "execution_count": 504,
     "metadata": {},
     "output_type": "execute_result"
    }
   ],
   "source": [
    "predtprob = lr.predict_proba(X_test)\n",
    "predt"
   ]
  },
  {
   "cell_type": "code",
   "execution_count": 505,
   "id": "12881dca",
   "metadata": {},
   "outputs": [
    {
     "data": {
      "text/plain": [
       "0.5950413223140495"
      ]
     },
     "execution_count": 505,
     "metadata": {},
     "output_type": "execute_result"
    }
   ],
   "source": [
    "f1_score(y_pred=prediction,y_true=y_test)"
   ]
  },
  {
   "cell_type": "code",
   "execution_count": 506,
   "id": "34ffe76e",
   "metadata": {},
   "outputs": [
    {
     "data": {
      "text/plain": [
       "0.7262569832402235"
      ]
     },
     "execution_count": 506,
     "metadata": {},
     "output_type": "execute_result"
    }
   ],
   "source": [
    "accuracy_score(y_pred=prediction,y_true=y_test)"
   ]
  },
  {
   "cell_type": "code",
   "execution_count": 507,
   "id": "1d482c93",
   "metadata": {},
   "outputs": [
    {
     "data": {
      "text/plain": [
       "array([[94, 11],\n",
       "       [38, 36]])"
      ]
     },
     "execution_count": 507,
     "metadata": {},
     "output_type": "execute_result"
    }
   ],
   "source": [
    "confusion_matrix(y_test,prediction)"
   ]
  },
  {
   "cell_type": "code",
   "execution_count": 508,
   "id": "52089ad7",
   "metadata": {},
   "outputs": [
    {
     "data": {
      "image/png": "[encoded data removed]",
      "text/plain": [
       "<Figure size 432x288 with 1 Axes>"
      ]
     },
     "metadata": {
      "needs_background": "light"
     },
     "output_type": "display_data"
    }
   ],
   "source": [
    "import sklearn.metrics as metrics\n",
    "# calculate the fpr and tpr for all thresholds of the classification\n",
    "preds = predtprob[:,1]\n",
    "fpr, tpr, threshold = metrics.roc_curve(y_test, preds)\n",
    "#print(fpr,tpr,threshold)\n",
    "roc_auc = metrics.auc(fpr, tpr)\n",
    "import matplotlib.pyplot as plt\n",
    "plt.title('Receiver Operating Characteristic')\n",
    "plt.plot(fpr, tpr, 'b', label = 'AUC = %0.2f' % roc_auc)\n",
    "plt.legend(loc = 'lower right')\n",
    "plt.plot([0, 1], [0, 1],'r--')\n",
    "plt.xlim([0, 1])\n",
    "plt.ylim([0, 1])\n",
    "plt.ylabel('True Positive Rate')\n",
    "plt.xlabel('False Positive Rate')\n",
    "plt.show()"
   ]
  },
  {
   "cell_type": "code",
   "execution_count": 496,
   "id": "61612b8c",
   "metadata": {},
   "outputs": [
    {
     "data": {
      "text/plain": [
       "0.7659574468085106"
      ]
     },
     "execution_count": 496,
     "metadata": {},
     "output_type": "execute_result"
    }
   ],
   "source": [
    "precision_score(y_test,prediction)"
   ]
  },
  {
   "cell_type": "code",
   "execution_count": 497,
   "id": "0bd2440c",
   "metadata": {
    "scrolled": true
   },
   "outputs": [
    {
     "data": {
      "text/plain": [
       "0.4864864864864865"
      ]
     },
     "execution_count": 497,
     "metadata": {},
     "output_type": "execute_result"
    }
   ],
   "source": [
    "recall_score(y_test,prediction)"
   ]
  },
  {
   "cell_type": "code",
   "execution_count": null,
   "id": "ff34de2a",
   "metadata": {},
   "outputs": [],
   "source": []
  }
 ],
 "metadata": {
  "kernelspec": {
   "display_name": "Python 3 (ipykernel)",
   "language": "python",
   "name": "python3"
  },
  "language_info": {
   "codemirror_mode": {
    "name": "ipython",
    "version": 3
   },
   "file_extension": ".py",
   "mimetype": "text/x-python",
   "name": "python",
   "nbconvert_exporter": "python",
   "pygments_lexer": "ipython3",
   "version": "3.9.12"
  }
 },
 "nbformat": 4,
 "nbformat_minor": 5
}
